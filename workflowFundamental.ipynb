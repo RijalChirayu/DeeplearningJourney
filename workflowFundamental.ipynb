{
 "cells": [
  {
   "cell_type": "code",
   "execution_count": 1,
   "metadata": {},
   "outputs": [],
   "source": [
    "what_were_covering = {1: \"data (prepare and load)\",\n",
    "    2: \"build model\",\n",
    "    3: \"fitting the model to data (training)\",\n",
    "    4: \"making predictions and evaluating a model (inference)\",\n",
    "    5: \"saving and loading a model\",\n",
    "    6: \"putting it all together\"\n",
    "}"
   ]
  },
  {
   "cell_type": "code",
   "execution_count": 2,
   "metadata": {},
   "outputs": [],
   "source": [
    "import os\n",
    "\n",
    "os.environ['KMP_DUPLICATE_LIB_OK'] = 'TRUE'"
   ]
  },
  {
   "cell_type": "code",
   "execution_count": 3,
   "metadata": {},
   "outputs": [
    {
     "data": {
      "text/plain": [
       "'2.2.1+cu118'"
      ]
     },
     "execution_count": 3,
     "metadata": {},
     "output_type": "execute_result"
    }
   ],
   "source": [
    "import torch \n",
    "from torch import nn #nn contains all of pytorch's building block to create neural networks \n",
    "import matplotlib.pyplot as plt\n",
    "\n",
    "torch.__version__"
   ]
  },
  {
   "cell_type": "code",
   "execution_count": 4,
   "metadata": {},
   "outputs": [
    {
     "data": {
      "text/plain": [
       "(tensor([[0.0000],\n",
       "         [0.0200],\n",
       "         [0.0400],\n",
       "         [0.0600],\n",
       "         [0.0800],\n",
       "         [0.1000],\n",
       "         [0.1200],\n",
       "         [0.1400],\n",
       "         [0.1600],\n",
       "         [0.1800]]),\n",
       " tensor([[0.3000],\n",
       "         [0.3140],\n",
       "         [0.3280],\n",
       "         [0.3420],\n",
       "         [0.3560],\n",
       "         [0.3700],\n",
       "         [0.3840],\n",
       "         [0.3980],\n",
       "         [0.4120],\n",
       "         [0.4260]]))"
      ]
     },
     "execution_count": 4,
     "metadata": {},
     "output_type": "execute_result"
    }
   ],
   "source": [
    "#creating some data \n",
    "weight = 0.7 \n",
    "bias = 0.3 \n",
    "\n",
    "#create data \n",
    "X= torch.arange(0 , 1 , 0.02).unsqueeze(dim = 1)\n",
    "y = weight * X + bias \n",
    "\n",
    "X[:10] , y[:10]"
   ]
  },
  {
   "cell_type": "code",
   "execution_count": 5,
   "metadata": {},
   "outputs": [
    {
     "data": {
      "text/plain": [
       "(10, 40, 10, 40)"
      ]
     },
     "execution_count": 5,
     "metadata": {},
     "output_type": "execute_result"
    }
   ],
   "source": [
    "#doing train/test split \n",
    "train_split = int(0.8 * len(X))\n",
    "X_train , y_train = X[:train_split] , y[:train_split]\n",
    "X_test , y_test = X[train_split:] , y[train_split:]\n",
    "\n",
    "len(X_test) , len(X_train) , len(y_test) , len(y_train)"
   ]
  },
  {
   "cell_type": "code",
   "execution_count": 6,
   "metadata": {},
   "outputs": [
    {
     "data": {
      "text/plain": [
       "<matplotlib.legend.Legend at 0x21251f82d10>"
      ]
     },
     "execution_count": 6,
     "metadata": {},
     "output_type": "execute_result"
    },
    {
     "data": {
      "image/png": "[encoded data removed]",
      "text/plain": [
       "<Figure size 800x800 with 1 Axes>"
      ]
     },
     "metadata": {},
     "output_type": "display_data"
    }
   ],
   "source": [
    "\n",
    "plt.figure(figsize=(8,8))\n",
    "\n",
    "#plotting training data in blue \n",
    "plt.scatter(X_train , y_train , c='b' , s=4 , label = \"Training data\")\n",
    "\n",
    "#plotting testing data in green \n",
    "plt.scatter(X_test , y_test , c='g' , s = 4 , label = \"Testing data\")\n",
    "\n",
    "# if predictions is not None: \n",
    "#     plt.scatter(test_data , predictions , c= 'r' , s = 4 , label = \"Predictions\")\n",
    "\n",
    "#showing the legend \n",
    "plt.legend()"
   ]
  },
  {
   "cell_type": "code",
   "execution_count": 28,
   "metadata": {},
   "outputs": [],
   "source": [
    "#Building model \n",
    "class LinearRegressionModel(nn.Module):\n",
    "    def __init__(self):\n",
    "        super().__init__()\n",
    "        self.weights = nn.Parameter(torch.rand(1 , dtype = torch.float) , \n",
    "                                    requires_grad=True)\n",
    "        self.bias = nn.Parameter(torch.rand(1 , dtype = torch.float) , \n",
    "                                 requires_grad=True)\n",
    "        \n",
    "        #forward propagation\n",
    "    def forward(self , x: torch.tensor) -> torch.Tensor: \n",
    "        return self.weights * x + self.bias"
   ]
  },
  {
   "cell_type": "code",
   "execution_count": 29,
   "metadata": {},
   "outputs": [
    {
     "data": {
      "text/plain": [
       "[Parameter containing:\n",
       " tensor([0.8823], requires_grad=True),\n",
       " Parameter containing:\n",
       " tensor([0.9150], requires_grad=True)]"
      ]
     },
     "execution_count": 29,
     "metadata": {},
     "output_type": "execute_result"
    }
   ],
   "source": [
    "#setting manual seed since nn.Parameter is randomly initialized \n",
    "torch.manual_seed(42)\n",
    "\n",
    "#creating instance of model \n",
    "model_0 = LinearRegressionModel()\n",
    "\n",
    "list(model_0.parameters())"
   ]
  },
  {
   "cell_type": "code",
   "execution_count": 30,
   "metadata": {},
   "outputs": [
    {
     "data": {
      "text/plain": [
       "OrderedDict([('weights', tensor([0.8823])), ('bias', tensor([0.9150]))])"
      ]
     },
     "execution_count": 30,
     "metadata": {},
     "output_type": "execute_result"
    }
   ],
   "source": [
    "model_0.state_dict()"
   ]
  },
  {
   "cell_type": "code",
   "execution_count": 31,
   "metadata": {},
   "outputs": [],
   "source": [
    "#To do predictions we can use inference mode\n",
    "with torch.inference_mode():\n",
    "    y_pred = model_0(X_test)\n",
    "    "
   ]
  },
  {
   "cell_type": "code",
   "execution_count": 32,
   "metadata": {},
   "outputs": [
    {
     "data": {
      "text/plain": [
       "<matplotlib.legend.Legend at 0x2125439a890>"
      ]
     },
     "execution_count": 32,
     "metadata": {},
     "output_type": "execute_result"
    },
    {
     "data": {
      "image/png": "[encoded data removed]",
      "text/plain": [
       "<Figure size 800x800 with 1 Axes>"
      ]
     },
     "metadata": {},
     "output_type": "display_data"
    }
   ],
   "source": [
    "\n",
    "plt.figure(figsize=(8,8))\n",
    "\n",
    "#plotting training data in blue \n",
    "plt.scatter(X_train , y_train , c='b' , s=4 , label = \"Training data\")\n",
    "\n",
    "#plotting testing data in green \n",
    "plt.scatter(X_test , y_test , c='g' , s = 4 , label = \"Testing data\")\n",
    "\n",
    "\n",
    "plt.scatter(X_test , y_pred , c= 'r' , s = 4 , label = \"Predictions\")\n",
    "\n",
    "#showing the legend \n",
    "plt.legend()"
   ]
  },
  {
   "cell_type": "code",
   "execution_count": 33,
   "metadata": {},
   "outputs": [
    {
     "data": {
      "text/plain": [
       "tensor([[-0.7608],\n",
       "        [-0.7645],\n",
       "        [-0.7681],\n",
       "        [-0.7718],\n",
       "        [-0.7754],\n",
       "        [-0.7790],\n",
       "        [-0.7827],\n",
       "        [-0.7863],\n",
       "        [-0.7900],\n",
       "        [-0.7936]])"
      ]
     },
     "execution_count": 33,
     "metadata": {},
     "output_type": "execute_result"
    }
   ],
   "source": [
    "y_test - y_pred"
   ]
  },
  {
   "cell_type": "code",
   "execution_count": 34,
   "metadata": {},
   "outputs": [],
   "source": [
    "#creating loss function \n",
    "loss_nn = nn.L1Loss() \n",
    "\n",
    "optimizer = torch.optim.SGD(params = model_0.parameters() , #parameters to optimize through gradient descent \n",
    "                            lr = 0.01)\n"
   ]
  },
  {
   "cell_type": "code",
   "execution_count": 36,
   "metadata": {},
   "outputs": [
    {
     "name": "stdout",
     "output_type": "stream",
     "text": [
      "Epoch: 0 | MAE train loss: 0.6745679974555969 | MAE test loss: 0.7502816915512085\n",
      "Epoch: 10 | MAE train loss: 0.5593580603599548 | MAE test loss: 0.6155718564987183\n",
      "Epoch: 20 | MAE train loss: 0.4441482126712799 | MAE test loss: 0.48086196184158325\n",
      "Epoch: 30 | MAE train loss: 0.328938364982605 | MAE test loss: 0.346152126789093\n",
      "Epoch: 40 | MAE train loss: 0.21372847259044647 | MAE test loss: 0.21144230663776398\n",
      "Epoch: 50 | MAE train loss: 0.09851861745119095 | MAE test loss: 0.07673247158527374\n",
      "Epoch: 60 | MAE train loss: 0.009325616993010044 | MAE test loss: 0.0205828957259655\n",
      "Epoch: 70 | MAE train loss: 0.005879654549062252 | MAE test loss: 0.012997227720916271\n",
      "Epoch: 80 | MAE train loss: 0.0024408488534390926 | MAE test loss: 0.004724687431007624\n",
      "Epoch: 90 | MAE train loss: 0.004425036255270243 | MAE test loss: 0.005930870771408081\n"
     ]
    }
   ],
   "source": [
    "#training the model with 100 epochs\n",
    "torch.manual_seed(42)\n",
    "\n",
    "epochs = 100 \n",
    "\n",
    "train_loss_list = []\n",
    "test_loss_list = []\n",
    "epoch_count = []\n",
    "\n",
    "for epoch in range(epochs):\n",
    "\n",
    "    #Putting model on training mode \n",
    "    model_0.train()\n",
    "\n",
    "    # Foward pass on train data using forward() method inside \n",
    "    y_pred = model_0(X_train)\n",
    "\n",
    "    #calculating the loss \n",
    "    loss = loss_nn(y_pred , y_train)\n",
    "\n",
    "    #making grad zero again \n",
    "    optimizer.zero_grad()\n",
    "\n",
    "    #doing backpropagation \n",
    "    loss.backward()\n",
    "\n",
    "\n",
    "    #optimizing step \n",
    "    optimizer.step()\n",
    "\n",
    "    #Testing\n",
    "\n",
    "    #Putting the model on evaluation mode\n",
    "    model_0.eval()\n",
    "\n",
    "    with torch.inference_mode():\n",
    "        #forward pass on test data \n",
    "        test_pred = model_0(X_test)\n",
    "\n",
    "        #calculating loss \n",
    "        test_loss = loss_nn(test_pred , y_test.type(torch.float))\n",
    "\n",
    "        if epoch % 10 == 0 : \n",
    "            epoch_count.append(epoch)\n",
    "            train_loss_list.append(loss.detach().numpy())\n",
    "            test_loss_list.append(test_loss.detach().numpy())\n",
    "            print(f\"Epoch: {epoch} | MAE train loss: {loss} | MAE test loss: {test_loss}\")\n"
   ]
  },
  {
   "cell_type": "code",
   "execution_count": 37,
   "metadata": {},
   "outputs": [
    {
     "data": {
      "text/plain": [
       "<matplotlib.legend.Legend at 0x2125d85bad0>"
      ]
     },
     "execution_count": 37,
     "metadata": {},
     "output_type": "execute_result"
    },
    {
     "data": {
      "image/png": "[encoded data removed]",
      "text/plain": [
       "<Figure size 640x480 with 1 Axes>"
      ]
     },
     "metadata": {},
     "output_type": "display_data"
    }
   ],
   "source": [
    "#plot the loss curve\n",
    "plt.plot(epoch_count , train_loss_list , label = \"Training Loss\")\n",
    "plt.plot(epoch_count , test_loss_list , label = \"Test Loss\")\n",
    "\n",
    "plt.title(\"Training and testing loss curves\")\n",
    "plt.ylabel(\"Loss\")\n",
    "plt.xlabel(\"epoch\")\n",
    "plt.legend()\n"
   ]
  },
  {
   "cell_type": "code",
   "execution_count": 38,
   "metadata": {},
   "outputs": [
    {
     "name": "stdout",
     "output_type": "stream",
     "text": [
      "The model learned the following values for weights and bias:\n",
      "OrderedDict([('weights', tensor([0.6938])), ('bias', tensor([0.2980]))])\n",
      "\n",
      "And the original values for weights and bias are:\n",
      "weights: 0.7, bias: 0.3\n"
     ]
    }
   ],
   "source": [
    "# Find our model's learned parameters\n",
    "print(\"The model learned the following values for weights and bias:\")\n",
    "print(model_0.state_dict())\n",
    "print(\"\\nAnd the original values for weights and bias are:\")\n",
    "print(f\"weights: {weight}, bias: {bias}\")"
   ]
  },
  {
   "cell_type": "code",
   "execution_count": 41,
   "metadata": {},
   "outputs": [
    {
     "data": {
      "text/plain": [
       "tensor([[-0.0070],\n",
       "        [-0.0071],\n",
       "        [-0.0072],\n",
       "        [-0.0074],\n",
       "        [-0.0075],\n",
       "        [-0.0076],\n",
       "        [-0.0077],\n",
       "        [-0.0079],\n",
       "        [-0.0080],\n",
       "        [-0.0081]])"
      ]
     },
     "execution_count": 41,
     "metadata": {},
     "output_type": "execute_result"
    }
   ],
   "source": [
    "#getting the predictions \n",
    "with torch.inference_mode():\n",
    "    y_preds = model_0(X_test)\n",
    "\n",
    "(y_preds - y_test)"
   ]
  },
  {
   "cell_type": "code",
   "execution_count": 42,
   "metadata": {},
   "outputs": [
    {
     "data": {
      "text/plain": [
       "<matplotlib.legend.Legend at 0x2125d92a450>"
      ]
     },
     "execution_count": 42,
     "metadata": {},
     "output_type": "execute_result"
    },
    {
     "data": {
      "image/png": "[encoded data removed]",
      "text/plain": [
       "<Figure size 800x800 with 1 Axes>"
      ]
     },
     "metadata": {},
     "output_type": "display_data"
    }
   ],
   "source": [
    "plt.figure(figsize=(8,8))\n",
    "\n",
    "#plotting training data in blue \n",
    "plt.scatter(X_train , y_train , c='b' , s=4 , label = \"Training data\")\n",
    "\n",
    "#plotting testing data in green \n",
    "plt.scatter(X_test , y_test , c='g' , s = 4 , label = \"Testing data\")\n",
    "\n",
    "\n",
    "plt.scatter(X_test , y_preds , c= 'r' , s = 4 , label = \"Predictions\")\n",
    "\n",
    "#showing the legend \n",
    "plt.legend()"
   ]
  },
  {
   "cell_type": "code",
   "execution_count": 43,
   "metadata": {},
   "outputs": [],
   "source": [
    "#Saving and loading a Pytorch model\n",
    "from pathlib import Path \n",
    "\n",
    "#Create models Directory \n",
    "MODEL_PATH = Path(\"models\")\n",
    "MODEL_PATH.mkdir(parents = True , exist_ok = True)\n",
    "\n",
    "#Create model save path \n",
    "MODEL_NAME = \"1stPytorchModel.pth\"\n",
    "MODEL_SAVE_PATH = MODEL_PATH / MODEL_NAME "
   ]
  },
  {
   "cell_type": "code",
   "execution_count": 46,
   "metadata": {},
   "outputs": [
    {
     "name": "stdout",
     "output_type": "stream",
     "text": [
      "Savng model to: models\\1stPytorchModel.pth\n"
     ]
    }
   ],
   "source": [
    "#saving the model state dict \n",
    "print(f\"Savng model to: {MODEL_SAVE_PATH}\")\n",
    "torch.save(obj = model_0.state_dict() , #only saving models learned parameters\n",
    "           f = MODEL_SAVE_PATH)"
   ]
  },
  {
   "cell_type": "code",
   "execution_count": 47,
   "metadata": {},
   "outputs": [
    {
     "data": {
      "text/plain": [
       "<All keys matched successfully>"
      ]
     },
     "execution_count": 47,
     "metadata": {},
     "output_type": "execute_result"
    }
   ],
   "source": [
    "#Loading a saved model \n",
    "#Instantiaiting a model \n",
    "loaded_model = LinearRegressionModel()\n",
    "\n",
    "#loading the state_dict of our saved model \n",
    "loaded_model.load_state_dict(torch.load(f=MODEL_SAVE_PATH))"
   ]
  },
  {
   "cell_type": "code",
   "execution_count": 48,
   "metadata": {},
   "outputs": [],
   "source": [
    "loaded_model.eval()\n",
    "\n",
    "with torch.inference_mode():\n",
    "    loaded_model_pred = loaded_model(X_test)\n",
    "    "
   ]
  },
  {
   "cell_type": "code",
   "execution_count": 49,
   "metadata": {},
   "outputs": [
    {
     "data": {
      "text/plain": [
       "tensor([[True],\n",
       "        [True],\n",
       "        [True],\n",
       "        [True],\n",
       "        [True],\n",
       "        [True],\n",
       "        [True],\n",
       "        [True],\n",
       "        [True],\n",
       "        [True]])"
      ]
     },
     "execution_count": 49,
     "metadata": {},
     "output_type": "execute_result"
    }
   ],
   "source": [
    "y_preds == loaded_model_pred"
   ]
  },
  {
   "cell_type": "code",
   "execution_count": 50,
   "metadata": {},
   "outputs": [
    {
     "name": "stdout",
     "output_type": "stream",
     "text": [
      "The device cuda is available\n"
     ]
    }
   ],
   "source": [
    "#Doing it in GPU \n",
    "device = \"cuda\" if torch.cuda.is_available() else \"cpu\"\n",
    "print(f\"The device {device} is available\")"
   ]
  },
  {
   "cell_type": "code",
   "execution_count": 51,
   "metadata": {},
   "outputs": [],
   "source": [
    "weight = 0.3 \n",
    "bias = 0.9\n",
    "\n",
    "X = torch.arange(0 , 1, 0.01).unsqueeze(dim = 1)\n",
    "y = weight * X + bias \n",
    "\n"
   ]
  },
  {
   "cell_type": "code",
   "execution_count": 52,
   "metadata": {},
   "outputs": [
    {
     "data": {
      "text/plain": [
       "(80, 20, 80, 20)"
      ]
     },
     "execution_count": 52,
     "metadata": {},
     "output_type": "execute_result"
    }
   ],
   "source": [
    "train_split = int(0.8 * len(X))\n",
    "X_train , y_train = X[:train_split] , y[:train_split]\n",
    "X_test , y_test = X[train_split:] , y[train_split:]\n",
    "\n",
    "len(X_train) , len(X_test) , len(y_train) , len(y_test)"
   ]
  },
  {
   "cell_type": "code",
   "execution_count": 53,
   "metadata": {},
   "outputs": [
    {
     "data": {
      "text/plain": [
       "<matplotlib.legend.Legend at 0x2125d951490>"
      ]
     },
     "execution_count": 53,
     "metadata": {},
     "output_type": "execute_result"
    },
    {
     "data": {
      "image/png": "[encoded data removed]",
      "text/plain": [
       "<Figure size 800x800 with 1 Axes>"
      ]
     },
     "metadata": {},
     "output_type": "display_data"
    }
   ],
   "source": [
    "plt.figure(figsize=(8,8))\n",
    "\n",
    "#plotting training data in blue \n",
    "plt.scatter(X_train , y_train , c='b' , s=4 , label = \"Training data\")\n",
    "\n",
    "#plotting testing data in green \n",
    "plt.scatter(X_test , y_test , c='g' , s = 4 , label = \"Testing data\")\n",
    "\n",
    "\n",
    "# plt.scatter(X_test , y_pred , c= 'r' , s = 4 , label = \"Predictions\")\n",
    "\n",
    "#showing the legend \n",
    "plt.legend()"
   ]
  },
  {
   "cell_type": "code",
   "execution_count": 54,
   "metadata": {},
   "outputs": [],
   "source": [
    "#Building the model \n",
    "class LinearRegressionModel2(nn.Module):\n",
    "    def __init__(self):\n",
    "        super().__init__()\n",
    "        # creating linear layer\n",
    "        self.linear_layer = nn.Linear(in_features=1 ,\n",
    "                                       out_features=1)\n",
    "    def forward(self , x: torch.Tensor):\n",
    "        return self.linear_layer(x)\n"
   ]
  },
  {
   "cell_type": "code",
   "execution_count": 55,
   "metadata": {},
   "outputs": [
    {
     "data": {
      "text/plain": [
       "(LinearRegressionModel2(\n",
       "   (linear_layer): Linear(in_features=1, out_features=1, bias=True)\n",
       " ),\n",
       " OrderedDict([('linear_layer.weight', tensor([[0.7645]])),\n",
       "              ('linear_layer.bias', tensor([0.8300]))]))"
      ]
     },
     "execution_count": 55,
     "metadata": {},
     "output_type": "execute_result"
    }
   ],
   "source": [
    "torch.manual_seed(42)\n",
    "\n",
    "model_1 = LinearRegressionModel2()\n",
    "model_1 , model_1.state_dict()"
   ]
  },
  {
   "cell_type": "code",
   "execution_count": 59,
   "metadata": {},
   "outputs": [
    {
     "data": {
      "text/plain": [
       "(device(type='cpu'),\n",
       " [Parameter containing:\n",
       "  tensor([[0.7645]], requires_grad=True),\n",
       "  Parameter containing:\n",
       "  tensor([0.8300], requires_grad=True)])"
      ]
     },
     "execution_count": 59,
     "metadata": {},
     "output_type": "execute_result"
    }
   ],
   "source": [
    "#checking the model device \n",
    "next(model_1.parameters()).device , list(model_1.parameters())"
   ]
  },
  {
   "cell_type": "code",
   "execution_count": 60,
   "metadata": {},
   "outputs": [
    {
     "data": {
      "text/plain": [
       "device(type='cuda', index=0)"
      ]
     },
     "execution_count": 60,
     "metadata": {},
     "output_type": "execute_result"
    }
   ],
   "source": [
    "model_1.to(device)\n",
    "next(model_1.parameters()).device"
   ]
  },
  {
   "cell_type": "code",
   "execution_count": 61,
   "metadata": {},
   "outputs": [],
   "source": [
    "loss_fn = nn.L1Loss()\n",
    "\n",
    "optimizer = torch.optim.SGD(params = model_1.parameters() , \n",
    "                            lr = 0.01)"
   ]
  },
  {
   "cell_type": "code",
   "execution_count": 62,
   "metadata": {},
   "outputs": [
    {
     "name": "stdout",
     "output_type": "stream",
     "text": [
      "Epoch: 0 | Train loss: 0.1275613158941269 | Test loss: 0.33650314807891846\n",
      "Epoch: 100 | Train loss: 0.05137667804956436 | Test loss: 0.12079393863677979\n",
      "Epoch: 200 | Train loss: 0.017119847238063812 | Test loss: 0.03950077295303345\n",
      "Epoch: 300 | Train loss: 0.007878492586314678 | Test loss: 0.007064235396683216\n",
      "Epoch: 400 | Train loss: 0.007878492586314678 | Test loss: 0.007064235396683216\n",
      "Epoch: 500 | Train loss: 0.007878492586314678 | Test loss: 0.007064235396683216\n",
      "Epoch: 600 | Train loss: 0.007878492586314678 | Test loss: 0.007064235396683216\n",
      "Epoch: 700 | Train loss: 0.007878492586314678 | Test loss: 0.007064235396683216\n",
      "Epoch: 800 | Train loss: 0.007878492586314678 | Test loss: 0.007064235396683216\n",
      "Epoch: 900 | Train loss: 0.007878492586314678 | Test loss: 0.007064235396683216\n",
      "Epoch: 1000 | Train loss: 0.007878492586314678 | Test loss: 0.007064235396683216\n",
      "Epoch: 1100 | Train loss: 0.007878492586314678 | Test loss: 0.007064235396683216\n",
      "Epoch: 1200 | Train loss: 0.007878492586314678 | Test loss: 0.007064235396683216\n",
      "Epoch: 1300 | Train loss: 0.007878492586314678 | Test loss: 0.007064235396683216\n",
      "Epoch: 1400 | Train loss: 0.007878492586314678 | Test loss: 0.007064235396683216\n",
      "Epoch: 1500 | Train loss: 0.007878492586314678 | Test loss: 0.007064235396683216\n",
      "Epoch: 1600 | Train loss: 0.007878492586314678 | Test loss: 0.007064235396683216\n",
      "Epoch: 1700 | Train loss: 0.007878492586314678 | Test loss: 0.007064235396683216\n",
      "Epoch: 1800 | Train loss: 0.007878492586314678 | Test loss: 0.007064235396683216\n",
      "Epoch: 1900 | Train loss: 0.007878492586314678 | Test loss: 0.007064235396683216\n"
     ]
    }
   ],
   "source": [
    "torch.manual_seed(42)\n",
    "\n",
    "#setting number of epochs \n",
    "epochs = 2000 \n",
    "\n",
    "X_train = X_train.to(device)\n",
    "X_test = X_test.to(device)\n",
    "y_train = y_train.to(device)\n",
    "y_test = y_test.to(device)\n",
    "\n",
    "for epoch in range(epochs):\n",
    "\n",
    "    model_1.train()\n",
    "\n",
    "    y_pred = model_1(X_train)\n",
    "\n",
    "    loss = loss_fn(y_pred , y_train)\n",
    "\n",
    "    optimizer.zero_grad()\n",
    "\n",
    "    loss.backward()\n",
    "\n",
    "    optimizer.step()\n",
    "\n",
    "    #Testing \n",
    "    model_1.eval()\n",
    "\n",
    "    with torch.inference_mode():\n",
    "        test_pred = model_1(X_test)\n",
    "\n",
    "        test_loss = loss_fn(test_pred , y_test)\n",
    "\n",
    "    if epoch % 100 == 0 :\n",
    "        print(f\"Epoch: {epoch} | Train loss: {loss} | Test loss: {test_loss}\")\n"
   ]
  },
  {
   "cell_type": "code",
   "execution_count": 63,
   "metadata": {},
   "outputs": [
    {
     "name": "stdout",
     "output_type": "stream",
     "text": [
      "The model learned the following values for weights and bias:\n",
      "OrderedDict([('linear_layer.weight', tensor([[0.3028]], device='cuda:0')),\n",
      "             ('linear_layer.bias', tensor([0.8910], device='cuda:0'))])\n",
      "\n",
      "And the original values for weights \n",
      "0.3 0.9\n"
     ]
    }
   ],
   "source": [
    "from pprint import pprint \n",
    "print(\"The model learned the following values for weights and bias:\")\n",
    "pprint(model_1.state_dict())\n",
    "print(\"\\nAnd the original values for weights \")\n",
    "print(weight , bias)"
   ]
  },
  {
   "cell_type": "code",
   "execution_count": 65,
   "metadata": {},
   "outputs": [
    {
     "data": {
      "text/plain": [
       "tensor([[1.1333],\n",
       "        [1.1363],\n",
       "        [1.1393],\n",
       "        [1.1423],\n",
       "        [1.1454],\n",
       "        [1.1484],\n",
       "        [1.1514],\n",
       "        [1.1545],\n",
       "        [1.1575],\n",
       "        [1.1605],\n",
       "        [1.1635],\n",
       "        [1.1666],\n",
       "        [1.1696],\n",
       "        [1.1726],\n",
       "        [1.1757],\n",
       "        [1.1787],\n",
       "        [1.1817],\n",
       "        [1.1847],\n",
       "        [1.1878],\n",
       "        [1.1908]], device='cuda:0')"
      ]
     },
     "execution_count": 65,
     "metadata": {},
     "output_type": "execute_result"
    }
   ],
   "source": [
    "model_1.eval()\n",
    "with torch.inference_mode():\n",
    "    y_preds = model_1(X_test)\n",
    "y_preds"
   ]
  },
  {
   "cell_type": "code",
   "execution_count": 68,
   "metadata": {},
   "outputs": [
    {
     "data": {
      "text/plain": [
       "<matplotlib.legend.Legend at 0x2125d900e10>"
      ]
     },
     "execution_count": 68,
     "metadata": {},
     "output_type": "execute_result"
    },
    {
     "data": {
      "image/png": "[encoded data removed]",
      "text/plain": [
       "<Figure size 800x800 with 1 Axes>"
      ]
     },
     "metadata": {},
     "output_type": "display_data"
    }
   ],
   "source": [
    "plt.figure(figsize=(8,8))\n",
    "\n",
    "#plotting training data in blue \n",
    "plt.scatter(X_train.to(\"cpu\") , y_train.to(\"cpu\") , c='b' , s=4 , label = \"Training data\")\n",
    "\n",
    "#plotting testing data in green \n",
    "plt.scatter(X_test.to(\"cpu\") , y_test.to('cpu') , c='g' , s = 4 , label = \"Testing data\")\n",
    "\n",
    "\n",
    "plt.scatter(X_test.to('cpu') , y_preds.to(\"cpu\") , c= 'r' , s = 4 , label = \"Predictions\")\n",
    "\n",
    "#showing the legend \n",
    "plt.legend()"
   ]
  }
 ],
 "metadata": {
  "kernelspec": {
   "display_name": "Python 3",
   "language": "python",
   "name": "python3"
  },
  "language_info": {
   "codemirror_mode": {
    "name": "ipython",
    "version": 3
   },
   "file_extension": ".py",
   "mimetype": "text/x-python",
   "name": "python",
   "nbconvert_exporter": "python",
   "pygments_lexer": "ipython3",
   "version": "3.11.5"
  }
 },
 "nbformat": 4,
 "nbformat_minor": 2
}
